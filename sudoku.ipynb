{
 "cells": [
  {
   "cell_type": "code",
   "execution_count": 10,
   "metadata": {},
   "outputs": [],
   "source": [
    "#sudoku\n",
    "\n",
    "\n",
    "\n",
    "\n",
    "\n",
    "cols,rows=(9,9)\n",
    "arr = [[0 for i in range(cols)] for j in range(rows)] \n",
    "arr[0][0]=9"
   ]
  },
  {
   "cell_type": "code",
   "execution_count": 11,
   "metadata": {},
   "outputs": [
    {
     "name": "stdout",
     "output_type": "stream",
     "text": [
      "[[9, 0, 0, 0, 0, 0, 0, 0, 0], [0, 0, 0, 0, 0, 0, 0, 0, 0], [0, 0, 0, 0, 0, 0, 0, 0, 0], [0, 0, 0, 0, 0, 0, 0, 0, 0], [0, 0, 0, 0, 0, 0, 0, 0, 0], [0, 0, 0, 0, 0, 0, 0, 0, 0], [0, 0, 0, 0, 0, 0, 0, 0, 0], [0, 0, 0, 0, 0, 0, 0, 0, 0], [0, 0, 0, 0, 0, 0, 0, 0, 0]]\n"
     ]
    }
   ],
   "source": [
    "print(arr)"
   ]
  },
  {
   "cell_type": "code",
   "execution_count": 12,
   "metadata": {},
   "outputs": [
    {
     "data": {
      "text/plain": [
       "9"
      ]
     },
     "execution_count": 12,
     "metadata": {},
     "output_type": "execute_result"
    }
   ],
   "source": [
    "arr[0][0]"
   ]
  },
  {
   "cell_type": "code",
   "execution_count": 13,
   "metadata": {},
   "outputs": [],
   "source": [
    "# SUDOKU\n",
    "\n",
    "\n",
    "\n",
    "def print_bord(arr):\n",
    "    for i in range(len(arr)):\n",
    "        if(i %3 == 0 and i!=0):\n",
    "            print(\"-----------------------\")\n",
    "        \n",
    "        for j in range(len(arr[0])):\n",
    "            if(j%3==0 and j!=0):\n",
    "                print(\" | \",end=\"\")\n",
    "            if(j==8):\n",
    "                print(arr[i][j])\n",
    "            else:\n",
    "                print(str(arr[i][j]) + \" \",end=\"\")\n",
    "                \n",
    "                \n",
    "def find_empty(arr):\n",
    "    for i in range(len(arr)):\n",
    "        for j in range(len(arr[0])):\n",
    "            if(arr[i][j]==0):\n",
    "                return(i,j)\n",
    "    return False\n",
    "            \n",
    "def valid(arr,num,pos):\n",
    "    for i in range(len(arr[0])):\n",
    "        if(arr[pos[0]][i]==num and i!=pos[1]):\n",
    "            return False\n",
    "    for j in range(len(arr)):\n",
    "        if(arr[j][pos[1]]==num and j != pos[0]):\n",
    "            return False\n",
    "    \n",
    "    x_box=pos[0]//3\n",
    "    y_box=pos[1]//3\n",
    "    \n",
    "    for i in range(x_box * 3 , x_box + 3):\n",
    "        for j in range(y_box*3 , y_box + 3):\n",
    "            if(num==arr[i][j] and (i,j)!=pos ):\n",
    "                return False\n",
    "    return True\n",
    "\n",
    "def solve(arr):\n",
    "    find=find_empty(arr)\n",
    "    if not find:\n",
    "        return True\n",
    "    else:\n",
    "        row,col=find\n",
    "        \n",
    "    for i in range(1,10):\n",
    "        if valid(arr,i,(row,col)):\n",
    "            arr[row][col]=i\n",
    "            \n",
    "            if solve(arr):\n",
    "                return True\n",
    "            \n",
    "            arr[row][col]=0\n",
    "    return False\n",
    "\n",
    "\n",
    "\n",
    "\n",
    "\n",
    "\n",
    "\n"
   ]
  },
  {
   "cell_type": "code",
   "execution_count": 14,
   "metadata": {
    "scrolled": true
   },
   "outputs": [
    {
     "name": "stdout",
     "output_type": "stream",
     "text": [
      "before\n",
      "9 0 0  | 0 0 0  | 0 0 0\n",
      "0 0 0  | 0 0 0  | 0 0 0\n",
      "0 0 0  | 0 0 0  | 0 0 0\n",
      "-----------------------\n",
      "0 0 0  | 0 0 0  | 0 0 0\n",
      "0 0 0  | 0 0 0  | 0 0 0\n",
      "0 0 0  | 0 0 0  | 0 0 0\n",
      "-----------------------\n",
      "0 0 0  | 0 0 0  | 0 0 0\n",
      "0 0 0  | 0 0 0  | 0 0 0\n",
      "0 0 0  | 0 0 0  | 0 0 0\n",
      "-------------------\n",
      "after\n",
      "9 1 2  | 3 4 5  | 6 7 8\n",
      "3 4 5  | 1 2 6  | 7 8 9\n",
      "6 7 8  | 2 5 4  | 1 9 3\n",
      "-----------------------\n",
      "1 2 3  | 4 6 8  | 9 5 7\n",
      "4 5 6  | 7 1 9  | 8 3 2\n",
      "5 6 4  | 8 9 7  | 3 2 1\n",
      "-----------------------\n",
      "2 3 7  | 9 8 1  | 4 6 5\n",
      "7 8 9  | 6 3 2  | 5 1 4\n",
      "8 9 1  | 5 7 3  | 2 4 6\n"
     ]
    }
   ],
   "source": [
    "print(\"before\")\n",
    "print_bord(arr)\n",
    "solve(arr)\n",
    "print(\"-------------------\")\n",
    "print(\"after\")\n",
    "print_bord(arr)"
   ]
  }
 ],
 "metadata": {
  "kernelspec": {
   "display_name": "Python 3",
   "language": "python",
   "name": "python3"
  },
  "language_info": {
   "codemirror_mode": {
    "name": "ipython",
    "version": 3
   },
   "file_extension": ".py",
   "mimetype": "text/x-python",
   "name": "python",
   "nbconvert_exporter": "python",
   "pygments_lexer": "ipython3",
   "version": "3.7.3"
  }
 },
 "nbformat": 4,
 "nbformat_minor": 2
}
